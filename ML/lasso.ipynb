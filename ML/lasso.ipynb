{
 "cells": [
  {
   "cell_type": "code",
   "execution_count": 3,
   "id": "c775e06d-2c8e-447b-b4d1-6bf16f0f1d5f",
   "metadata": {},
   "outputs": [
    {
     "name": "stdout",
     "output_type": "stream",
     "text": [
      "R^2 score: 0.532\n",
      "MedInc: 0.393\n",
      "HouseAge: 0.015\n",
      "AveRooms: -0.000\n",
      "AveBedrms: 0.000\n",
      "Population: 0.000\n",
      "AveOccup: -0.003\n",
      "Latitude: -0.114\n",
      "Longitude: -0.099\n",
      "Intercept: -7.699\n"
     ]
    }
   ],
   "source": [
    "from sklearn.datasets import fetch_california_housing\n",
    "from sklearn.linear_model import Lasso\n",
    "from sklearn.model_selection import train_test_split\n",
    "from sklearn.metrics import r2_score\n",
    "import numpy as np\n",
    "\n",
    "# Load California Housing dataset\n",
    "housing = fetch_california_housing()\n",
    "X = housing.data\n",
    "y = housing.target\n",
    "feature_names = housing.feature_names\n",
    "\n",
    "# Split data\n",
    "X_train, X_test, y_train, y_test = train_test_split(X, y, test_size=0.2, random_state=42)\n",
    "\n",
    "# Create Lasso regression model\n",
    "lasso = Lasso(alpha=0.1)\n",
    "\n",
    "# Train model\n",
    "lasso.fit(X_train, y_train)\n",
    "\n",
    "# Predict\n",
    "y_pred = lasso.predict(X_test)\n",
    "\n",
    "# R^2 score\n",
    "r2 = r2_score(y_test, y_pred)\n",
    "print(f\"R^2 score: {r2:.3f}\")\n",
    "\n",
    "# Coefficients\n",
    "for coef, name in zip(lasso.coef_, feature_names):\n",
    "    print(f\"{name}: {coef:.3f}\")\n",
    "\n",
    "print(f\"Intercept: {lasso.intercept_:.3f}\")\n"
   ]
  }
 ],
 "metadata": {
  "kernelspec": {
   "display_name": "Python [conda env:base] *",
   "language": "python",
   "name": "conda-base-py"
  },
  "language_info": {
   "codemirror_mode": {
    "name": "ipython",
    "version": 3
   },
   "file_extension": ".py",
   "mimetype": "text/x-python",
   "name": "python",
   "nbconvert_exporter": "python",
   "pygments_lexer": "ipython3",
   "version": "3.12.7"
  }
 },
 "nbformat": 4,
 "nbformat_minor": 5
}
