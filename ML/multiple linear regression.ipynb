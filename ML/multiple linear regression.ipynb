{
 "cells": [
  {
   "cell_type": "code",
   "execution_count": 9,
   "id": "bf528a34-8d2a-4635-b004-ea4a4fb7a83b",
   "metadata": {},
   "outputs": [
    {
     "name": "stdout",
     "output_type": "stream",
     "text": [
      "✅ Model Parameters:\n",
      "Intercept: 11.213237880833589\n",
      "Coefficients:\n",
      "  StudyHours : 4.654610212246686\n",
      "  SleepHours : 1.844752351299615\n",
      "  Attendance : 0.2843096131005298\n",
      "\n",
      "📊 Test Set Evaluation:\n",
      "R-squared (R²): 0.7482323030566602\n",
      "Mean Squared Error (MSE): 38.25156066835839\n",
      "\n",
      "🔍 Test Predictions vs Actual (first 5):\n",
      "   Predicted  Actual\n",
      "0      69.58   69.95\n",
      "1      76.93   81.53\n",
      "2      89.48   84.57\n",
      "3      64.82   68.87\n",
      "4      78.29   88.42\n"
     ]
    }
   ],
   "source": [
    "import pandas as pd\n",
    "from sklearn.linear_model import LinearRegression\n",
    "from sklearn.model_selection import train_test_split\n",
    "from sklearn.metrics import r2_score, mean_squared_error\n",
    "\n",
    "# Step 1: CSV ফাইল লোড করা\n",
    "df = pd.read_csv('student_data.csv')\n",
    "\n",
    "# Step 2: Feature (X) ও Target (y) আলাদা করা\n",
    "X = df[['StudyHours', 'SleepHours', 'Attendance']]\n",
    "y = df['Marks']\n",
    "\n",
    "# Step 3: Train/Test Split (80% train, 20% test)\n",
    "X_train, X_test, y_train, y_test = train_test_split(X, y, test_size=0.20, random_state=42)\n",
    "\n",
    "# Step 4: মডেল তৈরি ও ট্রেইন করা\n",
    "model = LinearRegression()\n",
    "model.fit(X_train, y_train)\n",
    "\n",
    "# Step 5: টেস্ট সেটের উপর প্রেডিকশন\n",
    "y_pred = model.predict(X_test)\n",
    "\n",
    "# Step 6: মডেল প্যারামিটার ও পারফরম্যান্স দেখা\n",
    "print(\"✅ Model Parameters:\")\n",
    "print(\"Intercept:\", model.intercept_)\n",
    "print(\"Coefficients:\")\n",
    "print(\"  StudyHours :\", model.coef_[0])\n",
    "print(\"  SleepHours :\", model.coef_[1])\n",
    "print(\"  Attendance :\", model.coef_[2])\n",
    "\n",
    "print(\"\\n📊 Test Set Evaluation:\")\n",
    "print(\"R-squared (R²):\", r2_score(y_test, y_pred))\n",
    "print(\"Mean Squared Error (MSE):\", mean_squared_error(y_test, y_pred))\n",
    "\n",
    "# Step 7: Test সেটের প্রথম 5টি প্রেডিকশন দেখানো\n",
    "print(\"\\n🔍 Test Predictions vs Actual (first 5):\")\n",
    "test_result = pd.DataFrame({\n",
    "    'Predicted': y_pred.round(2),\n",
    "    'Actual': y_test.values\n",
    "})\n",
    "print(test_result.head())\n"
   ]
  },
  {
   "cell_type": "code",
   "execution_count": null,
   "id": "a41e70ef-abc4-4ac1-8638-df1ed4a0cb07",
   "metadata": {},
   "outputs": [],
   "source": []
  }
 ],
 "metadata": {
  "kernelspec": {
   "display_name": "Python [conda env:base] *",
   "language": "python",
   "name": "conda-base-py"
  },
  "language_info": {
   "codemirror_mode": {
    "name": "ipython",
    "version": 3
   },
   "file_extension": ".py",
   "mimetype": "text/x-python",
   "name": "python",
   "nbconvert_exporter": "python",
   "pygments_lexer": "ipython3",
   "version": "3.12.7"
  }
 },
 "nbformat": 4,
 "nbformat_minor": 5
}
